{
 "cells": [
  {
   "cell_type": "code",
   "execution_count": 20,
   "metadata": {
    "collapsed": true
   },
   "outputs": [],
   "source": [
    "# general \n",
    "import psycopg2 as psyc\n",
    "import pandas as pd\n",
    "import numpy as np\n",
    "import json\n",
    "import datetime\n",
    "from collections import Counter\n",
    "\n",
    "# statistics \n",
    "from statsmodels.stats.weightstats import ttest_ind\n",
    "from scipy.stats import ttest_rel, bartlett, levene\n",
    "\n",
    "# plotting\n",
    "import matplotlib.pyplot as plt\n",
    "import seaborn as sns\n",
    "%matplotlib inline"
   ]
  },
  {
   "cell_type": "code",
   "execution_count": 21,
   "metadata": {
    "collapsed": false
   },
   "outputs": [],
   "source": [
    "# saved database connection data as a hidden json file, for confidentiality \n",
    "with open(\"/Users/lucasramadan/SCL-Work/.db_conn.json\", 'r') as f:\n",
    "    db_conn = json.load(f)"
   ]
  },
  {
   "cell_type": "code",
   "execution_count": 22,
   "metadata": {
    "collapsed": true
   },
   "outputs": [],
   "source": [
    "# create the connection\n",
    "# unpacking the arguments\n",
    "conn = psyc.connect(**db_conn)"
   ]
  },
  {
   "cell_type": "code",
   "execution_count": 23,
   "metadata": {
    "collapsed": true
   },
   "outputs": [],
   "source": [
    "cur = conn.cursor()"
   ]
  },
  {
   "cell_type": "code",
   "execution_count": 24,
   "metadata": {
    "collapsed": true
   },
   "outputs": [],
   "source": [
    "# query to gather metrics \n",
    "with open('/Users/lucasramadan/SCL-Work/cancellation_rates_by_hour.sql') as f:\n",
    "    q = f.read()"
   ]
  },
  {
   "cell_type": "code",
   "execution_count": 25,
   "metadata": {
    "collapsed": true
   },
   "outputs": [],
   "source": [
    "cur.execute(q)"
   ]
  },
  {
   "cell_type": "code",
   "execution_count": 26,
   "metadata": {
    "collapsed": false
   },
   "outputs": [
    {
     "data": {
      "text/plain": [
       "[(0, 5.72499746681528),\n",
       " (1, 4.47867058465903),\n",
       " (2, 3.86057351302057),\n",
       " (3, 3.43499848008917),\n",
       " (4, 2.19880433681224),\n",
       " (5, 1.35778700982876),\n",
       " (6, 0.952477454655994),\n",
       " (7, 0.476238727327997),\n",
       " (8, 0.283716688620934),\n",
       " (9, 0.11146012767251),\n",
       " (10, 0.293849427500253),\n",
       " (11, 0.354645860776168),\n",
       " (12, 0.759955415948931),\n",
       " (13, 3.70858242983078),\n",
       " (14, 7.31583747086838),\n",
       " (15, 5.5223426892289),\n",
       " (16, 6.62681122707468),\n",
       " (17, 7.64008511500659),\n",
       " (18, 8.19738575336913),\n",
       " (19, 7.44756307629952),\n",
       " (20, 7.78194345931705),\n",
       " (21, 7.90353632586888),\n",
       " (22, 7.41716485966157),\n",
       " (23, 6.12017428310872),\n",
       " (None, 0.0303982166379572)]"
      ]
     },
     "execution_count": 26,
     "metadata": {},
     "output_type": "execute_result"
    }
   ],
   "source": [
    "data = cur.fetchall()\n",
    "data"
   ]
  },
  {
   "cell_type": "code",
   "execution_count": 27,
   "metadata": {
    "collapsed": false
   },
   "outputs": [
    {
     "data": {
      "text/plain": [
       "array([[0, 5.72499746681528],\n",
       "       [1, 4.47867058465903],\n",
       "       [2, 3.86057351302057],\n",
       "       [3, 3.43499848008917],\n",
       "       [4, 2.19880433681224],\n",
       "       [5, 1.35778700982876],\n",
       "       [6, 0.952477454655994],\n",
       "       [7, 0.476238727327997],\n",
       "       [8, 0.283716688620934],\n",
       "       [9, 0.11146012767251],\n",
       "       [10, 0.293849427500253],\n",
       "       [11, 0.354645860776168],\n",
       "       [12, 0.759955415948931],\n",
       "       [13, 3.70858242983078],\n",
       "       [14, 7.31583747086838],\n",
       "       [15, 5.5223426892289],\n",
       "       [16, 6.62681122707468],\n",
       "       [17, 7.64008511500659],\n",
       "       [18, 8.19738575336913],\n",
       "       [19, 7.44756307629952],\n",
       "       [20, 7.78194345931705],\n",
       "       [21, 7.90353632586888],\n",
       "       [22, 7.41716485966157],\n",
       "       [23, 6.12017428310872],\n",
       "       [None, 0.0303982166379572]], dtype=object)"
      ]
     },
     "execution_count": 27,
     "metadata": {},
     "output_type": "execute_result"
    }
   ],
   "source": [
    "data = np.asarray(data)\n",
    "data"
   ]
  },
  {
   "cell_type": "code",
   "execution_count": 28,
   "metadata": {
    "collapsed": false
   },
   "outputs": [
    {
     "data": {
      "text/html": [
       "<div>\n",
       "<table border=\"1\" class=\"dataframe\">\n",
       "  <thead>\n",
       "    <tr style=\"text-align: right;\">\n",
       "      <th></th>\n",
       "      <th>cancellation rate</th>\n",
       "    </tr>\n",
       "  </thead>\n",
       "  <tbody>\n",
       "    <tr>\n",
       "      <th>0</th>\n",
       "      <td>5.725</td>\n",
       "    </tr>\n",
       "    <tr>\n",
       "      <th>1</th>\n",
       "      <td>4.47867</td>\n",
       "    </tr>\n",
       "    <tr>\n",
       "      <th>2</th>\n",
       "      <td>3.86057</td>\n",
       "    </tr>\n",
       "    <tr>\n",
       "      <th>3</th>\n",
       "      <td>3.435</td>\n",
       "    </tr>\n",
       "    <tr>\n",
       "      <th>4</th>\n",
       "      <td>2.1988</td>\n",
       "    </tr>\n",
       "  </tbody>\n",
       "</table>\n",
       "</div>"
      ],
      "text/plain": [
       "  cancellation rate\n",
       "0             5.725\n",
       "1           4.47867\n",
       "2           3.86057\n",
       "3             3.435\n",
       "4            2.1988"
      ]
     },
     "execution_count": 28,
     "metadata": {},
     "output_type": "execute_result"
    }
   ],
   "source": [
    "df = pd.DataFrame(data[:, 1], columns=['cancellation rate'], index=data[:, 0])\n",
    "df.head()"
   ]
  },
  {
   "cell_type": "code",
   "execution_count": 31,
   "metadata": {
    "collapsed": false
   },
   "outputs": [
    {
     "data": {
      "text/html": [
       "<div>\n",
       "<table border=\"1\" class=\"dataframe\">\n",
       "  <thead>\n",
       "    <tr style=\"text-align: right;\">\n",
       "      <th></th>\n",
       "      <th>cancellation rate</th>\n",
       "    </tr>\n",
       "  </thead>\n",
       "  <tbody>\n",
       "    <tr>\n",
       "      <th>20</th>\n",
       "      <td>7.78194</td>\n",
       "    </tr>\n",
       "    <tr>\n",
       "      <th>21</th>\n",
       "      <td>7.90354</td>\n",
       "    </tr>\n",
       "    <tr>\n",
       "      <th>22</th>\n",
       "      <td>7.41716</td>\n",
       "    </tr>\n",
       "    <tr>\n",
       "      <th>23</th>\n",
       "      <td>6.12017</td>\n",
       "    </tr>\n",
       "    <tr>\n",
       "      <th>NaN</th>\n",
       "      <td>0.0303982</td>\n",
       "    </tr>\n",
       "  </tbody>\n",
       "</table>\n",
       "</div>"
      ],
      "text/plain": [
       "    cancellation rate\n",
       "20            7.78194\n",
       "21            7.90354\n",
       "22            7.41716\n",
       "23            6.12017\n",
       "NaN         0.0303982"
      ]
     },
     "execution_count": 31,
     "metadata": {},
     "output_type": "execute_result"
    }
   ],
   "source": [
    "df.tail()"
   ]
  },
  {
   "cell_type": "code",
   "execution_count": 29,
   "metadata": {
    "collapsed": true
   },
   "outputs": [],
   "source": [
    "conn.close()"
   ]
  },
  {
   "cell_type": "code",
   "execution_count": 30,
   "metadata": {
    "collapsed": false
   },
   "outputs": [
    {
     "data": {
      "image/png": "[encoded data removed]",
      "text/plain": [
       "<matplotlib.figure.Figure at 0x11a582550>"
      ]
     },
     "metadata": {},
     "output_type": "display_data"
    }
   ],
   "source": [
    "df.plot(figsize=(10,5));"
   ]
  },
  {
   "cell_type": "code",
   "execution_count": null,
   "metadata": {
    "collapsed": true
   },
   "outputs": [],
   "source": []
  }
 ],
 "metadata": {
  "anaconda-cloud": {},
  "kernelspec": {
   "display_name": "Python [conda root]",
   "language": "python",
   "name": "conda-root-py"
  },
  "language_info": {
   "codemirror_mode": {
    "name": "ipython",
    "version": 2
   },
   "file_extension": ".py",
   "mimetype": "text/x-python",
   "name": "python",
   "nbconvert_exporter": "python",
   "pygments_lexer": "ipython2",
   "version": "2.7.12"
  }
 },
 "nbformat": 4,
 "nbformat_minor": 1
}
